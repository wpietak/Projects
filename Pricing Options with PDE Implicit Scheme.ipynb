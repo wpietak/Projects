{
 "cells": [
  {
   "cell_type": "markdown",
   "metadata": {},
   "source": [
    "# <center>**Pricing Options with PDE Implicit Scheme**</center>"
   ]
  },
  {
   "cell_type": "markdown",
   "metadata": {},
   "source": [
    "This project presents pricing of the call-spread and put options with a use of partial differential equation (PDE) implicit scheme. Obtained prices are compared with the prices given by Black-Scholes formula."
   ]
  },
  {
   "cell_type": "code",
   "execution_count": 8,
   "metadata": {},
   "outputs": [],
   "source": [
    "import numpy as np\n",
    "import matplotlib.pyplot as plt\n",
    "from scipy.stats import norm\n",
    "#import matplotlib.animation as animation\n",
    "from mpl_toolkits import mplot3d\n",
    "plt.rcParams[\"figure.figsize\"] = (16,9)"
   ]
  },
  {
   "cell_type": "markdown",
   "metadata": {},
   "source": [
    "## Call-spread"
   ]
  },
  {
   "cell_type": "markdown",
   "metadata": {},
   "source": [
    "Fisrt we use the Black-Scholes model to price the call-spread. Its price is equal to the difference between the price of the long leg and short leg. It's due to the fact that buying a call-spread with trike prices K1 and K2 (with K1 < K2) is equivalent to buying a call with strike price K1 and selling a call with strike price K2."
   ]
  },
  {
   "cell_type": "code",
   "execution_count": 9,
   "metadata": {},
   "outputs": [],
   "source": [
    "def BS_formula_call(S_0, K, r, sigma, T):\n",
    "    d_1 = (np.log(S_0 / K) + (r + sigma ** 2 / 2) * T) / (sigma * np.sqrt(T))\n",
    "    d_2 = d_1 - sigma * np.sqrt(T)\n",
    "    return S_0 * norm.cdf(d_1) - K * np.exp(-r * T) * norm.cdf(d_2)"
   ]
  },
  {
   "cell_type": "code",
   "execution_count": 10,
   "metadata": {},
   "outputs": [],
   "source": [
    "S_0 = 10.\n",
    "K1 = 10.\n",
    "K2 = 15.\n",
    "r = 0.02\n",
    "sigma = 0.25\n",
    "T = 3.\n",
    "g = lambda S: np.maximum(S - K1, 0.) - np.maximum(S - K2, 0.)"
   ]
  },
  {
   "cell_type": "code",
   "execution_count": 11,
   "metadata": {},
   "outputs": [
    {
     "data": {
      "text/plain": [
       "1.3585071391775059"
      ]
     },
     "execution_count": 11,
     "metadata": {},
     "output_type": "execute_result"
    }
   ],
   "source": [
    "BS_formula_call(S_0, K1, r, sigma, T) - BS_formula_call(S_0, K2, r, sigma, T)"
   ]
  },
  {
   "cell_type": "markdown",
   "metadata": {},
   "source": [
    "Now we develop the function to solve the PDE implicit scheme for the same call-spread. \n",
    "We set the following values at the boundaries:\n",
    "- payoff at maturity (right boundary): max(S - K1, 0) - max(S - K2, 0); the difference of the payoffs of two calls (as explained earlier)\n",
    "- price of the option at the very low asset's spot price level (lower boundary): 0; we assume that the probability of the spot rising up to the strike is so low we can set it as 0, therefore, the probability that the option will be worth exercising is 0 \n",
    "- price of the option at the very high asset's spot price level (upper boundary): (K2 - K1) * exp(-rt); we assume that the probability of the spot falling down below the strikes is so low we can set it as 0, therefore, the price of the option is the discounted value of it's expected (in the risk-neutral probability space) payoff at the maturity, which is, at this very high spot level, equal to the discounted value of K2 - K1\n",
    "\n",
    "We also have to choose upper and lower bounds for the spot price. We set upper bound as 4 times the initial spot and lower bound as 1/4 of the initial spot, as for these levels the possibility of falling (or rising) appropriately much is so low that this possibility makes almost no impact on the option price and thus, it can be ommited.\n",
    "The rest is the same as for the plain vanilla call PDE implicit scheme."
   ]
  },
  {
   "cell_type": "code",
   "execution_count": 12,
   "metadata": {},
   "outputs": [],
   "source": [
    "def pde_scheme_implicit_call_spread(S_0, r, sigma, T, K1, K2, H, nb_x_side, nb_t):\n",
    "    nb_x = 2 * nb_x_side + 1\n",
    "    xs = np.linspace(np.log(S_0) - H, np.log(S_0) + H, nb_x)\n",
    "    dx = 2. * H / (nb_x - 1.)\n",
    "    dt = T / (nb_t - 1.)\n",
    "    ts = np.linspace(0, T, nb_t)\n",
    "    p = np.empty([nb_x, nb_t])\n",
    "    g = lambda S: np.maximum(S - K1, 0.) - np.maximum(S - K2, 0.)\n",
    "    p[:, 0] = g(np.exp(xs))\n",
    "    p[0, :] = 0.\n",
    "    p[-1, :] = K2 * np.exp(-r * ts) - K1 * np.exp(-r * ts)\n",
    "    d = 1. + dt * (r + (r - 0.5 * sigma ** 2) / dx + sigma ** 2 / dx ** 2)\n",
    "    #print(d)\n",
    "    sup_d = -dt * ((r - 0.5 * sigma ** 2) / dx + 0.5 * sigma ** 2 / dx ** 2)\n",
    "    inf_d = -dt * (0.5 * sigma ** 2 / dx ** 2)\n",
    "    A = np.diag(d * np.ones(nb_x - 2)) + np.diag(sup_d * np.ones(nb_x - 3), 1) + np.diag(inf_d * np.ones(nb_x - 3), -1)\n",
    "    v = np.zeros_like(p[1:-1, 0])\n",
    "    v[-1] = 1.\n",
    "    invA = np.linalg.inv(A)\n",
    "    for t in range(1, nb_t):\n",
    "        p[1:-1, t] = invA @ (p[1:-1, t - 1] - sup_d * p[-1, t] * v)\n",
    "    return p, p[nb_x_side, -1]"
   ]
  },
  {
   "cell_type": "code",
   "execution_count": 13,
   "metadata": {},
   "outputs": [],
   "source": [
    "H = np.log(40) - np.log(10)\n",
    "nb_x_side = 200\n",
    "nb_t = 25000"
   ]
  },
  {
   "cell_type": "code",
   "execution_count": 14,
   "metadata": {},
   "outputs": [
    {
     "data": {
      "text/plain": [
       "1.357907469753652"
      ]
     },
     "execution_count": 14,
     "metadata": {},
     "output_type": "execute_result"
    }
   ],
   "source": [
    "table, price = pde_scheme_implicit_call_spread(S_0, r, sigma, T, K1, K2, H, nb_x_side, nb_t)\n",
    "price"
   ]
  },
  {
   "cell_type": "markdown",
   "metadata": {},
   "source": [
    "The obtained price is close enough to the price obtained from the Black-Scholes model."
   ]
  },
  {
   "cell_type": "markdown",
   "metadata": {},
   "source": [
    "## Put with maturity 10 years"
   ]
  },
  {
   "cell_type": "markdown",
   "metadata": {},
   "source": [
    "Fisrt we use the Black-Scholes model to price the put."
   ]
  },
  {
   "cell_type": "code",
   "execution_count": 15,
   "metadata": {},
   "outputs": [],
   "source": [
    "S_0=10.\n",
    "K=8.\n",
    "r=0.02\n",
    "sigma=0.25\n",
    "T=10. \n",
    "g=lambda S: np.maximum(K-S,0.)"
   ]
  },
  {
   "cell_type": "code",
   "execution_count": 16,
   "metadata": {},
   "outputs": [],
   "source": [
    "# here BS formula for a put\n",
    "from scipy.stats import norm\n",
    "def BS_formula_put(S_0,K,r,sigma,T):\n",
    "    d_1 = (np.log(S_0/K) + (r + sigma**2/2)*T)/(sigma * np.sqrt(T))\n",
    "    d_2 = d_1 - sigma * np.sqrt(T)\n",
    "    return -S_0 * norm.cdf(-d_1) + K * np.exp(-r*T) * norm.cdf(-d_2)"
   ]
  },
  {
   "cell_type": "code",
   "execution_count": 17,
   "metadata": {},
   "outputs": [
    {
     "data": {
      "text/plain": [
       "1.149911346784067"
      ]
     },
     "execution_count": 17,
     "metadata": {},
     "output_type": "execute_result"
    }
   ],
   "source": [
    "BS_formula_put(S_0,K,r,sigma,T)"
   ]
  },
  {
   "cell_type": "markdown",
   "metadata": {},
   "source": [
    "Now we develop the function to solve the PDE implicit scheme for the same put. \n",
    "We set the following values at the boundaries:\n",
    "- payoff at maturity (right boundary): max(K - S, 0)\n",
    "- price of the option at the very high asset's spot price level (upper boundary): 0; we assume that the probability of the spot falling down to the strike is so low we can set it as 0, therefore, the probability that the option will be worth exercising is 0 \n",
    "- price of the option at the very low asset's spot price level (lower boundary): K * exp(-rt) - S; we assume that the probability of the spot rising up to the strike is so low we can set it as 0, therefore, the price of the option is the discounted value of it's expected (in the risk-neutral probability space) payoff at the maturity, which is, at this very high spot level, equal to the discounted value of K - E[S]\n",
    "\n",
    "We also have to \"rotate\" the vector v upside-down, since for a put the values at the lower boundry are not equal to 0 (and equal to 0 at the upper), as opposed to the call.\n",
    "\n",
    "We also have to choose upper and lower bounds for the spot price. We set upper bound as 4 times the initial spot and lower bound as 1/4 of the initial spot, since for these levels the possibility of falling (or rising) appropriately much is so low that this possibility makes almost no impact on the option price and thus, it can be ommited.\n",
    "The rest is the same as for the plain vanilla call PDE implicit scheme."
   ]
  },
  {
   "cell_type": "code",
   "execution_count": 18,
   "metadata": {},
   "outputs": [],
   "source": [
    "#implicit scheme\n",
    "def pde_scheme_implicit_put(S_0,r,sigma,T,K,H,nb_x_side,nb_t):\n",
    "    nb_x = 2 * nb_x_side+1\n",
    "    xs = np.linspace(np.log(S_0)-H, np.log(S_0)+H, nb_x)\n",
    "    dx = 2.*H/(nb_x - 1.)\n",
    "    dt = T/(nb_t - 1.)\n",
    "    ts = np.linspace(0,T,nb_t)\n",
    "    p = np.empty([nb_x,nb_t])\n",
    "    g = lambda S : np.maximum(K-S,0.)\n",
    "    p[:,0] = g(np.exp(xs))\n",
    "    p[0,:] = - np.exp(np.log(S_0)-H) + K * np.exp(-r*ts)\n",
    "    p[-1,:] = 0.\n",
    "    d = 1. + dt * (r + (r-0.5*sigma**2)/dx + sigma**2 / dx**2)\n",
    "    sup_d = -dt * ((r-0.5*sigma**2)/dx + 0.5 * sigma**2 / dx**2)\n",
    "    inf_d = -dt * (0.5 * sigma**2 / dx**2)\n",
    "    A = np.diag(d * np.ones(nb_x-2)) + np.diag(sup_d * np.ones(nb_x-3),1) + np.diag(inf_d * np.ones(nb_x-3),-1)\n",
    "    v = np.zeros_like(p[1:-1,0])\n",
    "    v[0]=1.\n",
    "    invA = np.linalg.inv(A)\n",
    "    for t in range(1,nb_t):\n",
    "        p[1:-1,t]=invA @ (p[1:-1,t-1]-sup_d * p[0,t] * v)\n",
    "    return p,p[nb_x_side,-1]"
   ]
  },
  {
   "cell_type": "code",
   "execution_count": 19,
   "metadata": {},
   "outputs": [],
   "source": [
    "H = np.log(40) - np.log(10)\n",
    "nb_x_side = 200\n",
    "nb_t = 25000"
   ]
  },
  {
   "cell_type": "code",
   "execution_count": 20,
   "metadata": {},
   "outputs": [
    {
     "data": {
      "text/plain": [
       "1.1470538283440983"
      ]
     },
     "execution_count": 20,
     "metadata": {},
     "output_type": "execute_result"
    }
   ],
   "source": [
    "table,price = pde_scheme_implicit_put(S_0, r, sigma, T, K, H, nb_x_side, nb_t)\n",
    "price"
   ]
  },
  {
   "cell_type": "markdown",
   "metadata": {},
   "source": [
    "The obtained price is close enough to the price obtained from the Black-Scholes model."
   ]
  }
 ],
 "metadata": {
  "kernelspec": {
   "display_name": "Python 3 (ipykernel)",
   "language": "python",
   "name": "python3"
  },
  "language_info": {
   "codemirror_mode": {
    "name": "ipython",
    "version": 3
   },
   "file_extension": ".py",
   "mimetype": "text/x-python",
   "name": "python",
   "nbconvert_exporter": "python",
   "pygments_lexer": "ipython3",
   "version": "3.12.7"
  }
 },
 "nbformat": 4,
 "nbformat_minor": 4
}
