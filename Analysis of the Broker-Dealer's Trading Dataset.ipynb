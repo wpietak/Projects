{
 "cells": [
  {
   "cell_type": "markdown",
   "id": "6b87f23a-d9e9-4244-a1a1-8b07264bbd86",
   "metadata": {},
   "source": [
    "# <center>Analysis of the Broker-Dealer's Trading Dataset</center>"
   ]
  },
  {
   "cell_type": "markdown",
   "id": "01c7825a-3c17-4a39-a30d-d80ecb8ab5cd",
   "metadata": {},
   "source": [
    "This project presents an analysis of the data concerning offers made by a broker-dealer to different clients and their outcome. It includes midprice of a given security, ID of a client making inquiry, indication whether he intends to buy or sell, price offered by a broker-dealer, and the outcome of the deal (whether it was accepted or not).\n",
    "\n",
    "First, two classification models are developed for each client - Logistic Regression and Linear Support Vector Machine (SVM). The data is divided into the training set and test set. The models are trained on the former, and their performance is assessed on the latter. \n",
    "\n",
    "Next, clustering using k-means algorithm is applied on the data in order to classify the clients based on their propensity to accept or refuse the deal depending on the offered bid-ask spread."
   ]
  },
  {
   "cell_type": "markdown",
   "id": "1abd2a5a",
   "metadata": {},
   "source": [
    "## Preliminaries"
   ]
  },
  {
   "cell_type": "markdown",
   "id": "09f65df1",
   "metadata": {},
   "source": [
    "Import the libraries"
   ]
  },
  {
   "cell_type": "code",
   "execution_count": 135,
   "id": "51b33b96",
   "metadata": {},
   "outputs": [],
   "source": [
    "import numpy as np\n",
    "import pandas as pd\n",
    "import matplotlib.pyplot as plt\n",
    "from sklearn.linear_model import LogisticRegression\n",
    "from sklearn.metrics import confusion_matrix, precision_score, recall_score, f1_score, accuracy_score\n",
    "from sklearn.model_selection import train_test_split\n",
    "from sklearn.cluster import KMeans, k_means\n",
    "from sklearn.svm import LinearSVC\n",
    "from sklearn.linear_model import SGDClassifier\n",
    "from sklearn.preprocessing import StandardScaler"
   ]
  },
  {
   "cell_type": "markdown",
   "id": "552c29a6",
   "metadata": {},
   "source": [
    "Read the data and create a single variable reflecting proposed bid-ask spread expressed as a fraction of the midprice"
   ]
  },
  {
   "cell_type": "code",
   "execution_count": 2,
   "id": "217b5e24",
   "metadata": {},
   "outputs": [],
   "source": [
    "trading_data = pd.read_csv('trading_data.csv', sep = \",\", index_col = 0)\n",
    "trading_data[\"spread\"] = (trading_data[\"answeredprice\"] - trading_data[\"midprice\"]) / trading_data[\"midprice\"] * trading_data[\"buy/sell\"] * 2"
   ]
  },
  {
   "cell_type": "code",
   "execution_count": 11,
   "id": "4a479a09",
   "metadata": {},
   "outputs": [
    {
     "data": {
      "text/html": [
       "<div>\n",
       "<style scoped>\n",
       "    .dataframe tbody tr th:only-of-type {\n",
       "        vertical-align: middle;\n",
       "    }\n",
       "\n",
       "    .dataframe tbody tr th {\n",
       "        vertical-align: top;\n",
       "    }\n",
       "\n",
       "    .dataframe thead th {\n",
       "        text-align: right;\n",
       "    }\n",
       "</style>\n",
       "<table border=\"1\" class=\"dataframe\">\n",
       "  <thead>\n",
       "    <tr style=\"text-align: right;\">\n",
       "      <th></th>\n",
       "      <th>midprice</th>\n",
       "      <th>id</th>\n",
       "      <th>buy/sell</th>\n",
       "      <th>answeredprice</th>\n",
       "      <th>deal</th>\n",
       "      <th>spread</th>\n",
       "    </tr>\n",
       "  </thead>\n",
       "  <tbody>\n",
       "    <tr>\n",
       "      <th>0</th>\n",
       "      <td>97.9990</td>\n",
       "      <td>4</td>\n",
       "      <td>1</td>\n",
       "      <td>98.016</td>\n",
       "      <td>0.0</td>\n",
       "      <td>0.000347</td>\n",
       "    </tr>\n",
       "    <tr>\n",
       "      <th>1</th>\n",
       "      <td>97.9988</td>\n",
       "      <td>4</td>\n",
       "      <td>-1</td>\n",
       "      <td>98.001</td>\n",
       "      <td>1.0</td>\n",
       "      <td>-0.000045</td>\n",
       "    </tr>\n",
       "    <tr>\n",
       "      <th>2</th>\n",
       "      <td>97.9951</td>\n",
       "      <td>1</td>\n",
       "      <td>-1</td>\n",
       "      <td>97.979</td>\n",
       "      <td>0.0</td>\n",
       "      <td>0.000329</td>\n",
       "    </tr>\n",
       "    <tr>\n",
       "      <th>3</th>\n",
       "      <td>97.9971</td>\n",
       "      <td>1</td>\n",
       "      <td>1</td>\n",
       "      <td>97.990</td>\n",
       "      <td>1.0</td>\n",
       "      <td>-0.000145</td>\n",
       "    </tr>\n",
       "    <tr>\n",
       "      <th>4</th>\n",
       "      <td>97.9961</td>\n",
       "      <td>1</td>\n",
       "      <td>-1</td>\n",
       "      <td>97.978</td>\n",
       "      <td>0.0</td>\n",
       "      <td>0.000369</td>\n",
       "    </tr>\n",
       "    <tr>\n",
       "      <th>...</th>\n",
       "      <td>...</td>\n",
       "      <td>...</td>\n",
       "      <td>...</td>\n",
       "      <td>...</td>\n",
       "      <td>...</td>\n",
       "      <td>...</td>\n",
       "    </tr>\n",
       "    <tr>\n",
       "      <th>2195</th>\n",
       "      <td>97.9943</td>\n",
       "      <td>1</td>\n",
       "      <td>-1</td>\n",
       "      <td>97.995</td>\n",
       "      <td>NaN</td>\n",
       "      <td>-0.000014</td>\n",
       "    </tr>\n",
       "    <tr>\n",
       "      <th>2196</th>\n",
       "      <td>97.9977</td>\n",
       "      <td>2</td>\n",
       "      <td>1</td>\n",
       "      <td>98.014</td>\n",
       "      <td>NaN</td>\n",
       "      <td>0.000333</td>\n",
       "    </tr>\n",
       "    <tr>\n",
       "      <th>2197</th>\n",
       "      <td>97.9999</td>\n",
       "      <td>3</td>\n",
       "      <td>1</td>\n",
       "      <td>98.009</td>\n",
       "      <td>NaN</td>\n",
       "      <td>0.000186</td>\n",
       "    </tr>\n",
       "    <tr>\n",
       "      <th>2198</th>\n",
       "      <td>98.0019</td>\n",
       "      <td>2</td>\n",
       "      <td>-1</td>\n",
       "      <td>98.007</td>\n",
       "      <td>NaN</td>\n",
       "      <td>-0.000104</td>\n",
       "    </tr>\n",
       "    <tr>\n",
       "      <th>2199</th>\n",
       "      <td>98.0041</td>\n",
       "      <td>2</td>\n",
       "      <td>1</td>\n",
       "      <td>98.015</td>\n",
       "      <td>NaN</td>\n",
       "      <td>0.000222</td>\n",
       "    </tr>\n",
       "  </tbody>\n",
       "</table>\n",
       "<p>2200 rows × 6 columns</p>\n",
       "</div>"
      ],
      "text/plain": [
       "      midprice  id  buy/sell  answeredprice  deal    spread\n",
       "0      97.9990   4         1         98.016   0.0  0.000347\n",
       "1      97.9988   4        -1         98.001   1.0 -0.000045\n",
       "2      97.9951   1        -1         97.979   0.0  0.000329\n",
       "3      97.9971   1         1         97.990   1.0 -0.000145\n",
       "4      97.9961   1        -1         97.978   0.0  0.000369\n",
       "...        ...  ..       ...            ...   ...       ...\n",
       "2195   97.9943   1        -1         97.995   NaN -0.000014\n",
       "2196   97.9977   2         1         98.014   NaN  0.000333\n",
       "2197   97.9999   3         1         98.009   NaN  0.000186\n",
       "2198   98.0019   2        -1         98.007   NaN -0.000104\n",
       "2199   98.0041   2         1         98.015   NaN  0.000222\n",
       "\n",
       "[2200 rows x 6 columns]"
      ]
     },
     "execution_count": 11,
     "metadata": {},
     "output_type": "execute_result"
    }
   ],
   "source": [
    "trading_data"
   ]
  },
  {
   "cell_type": "markdown",
   "id": "ded1fcc0",
   "metadata": {},
   "source": [
    "Take rows with available deal agreement data, and split the dataset into 4 parts corresponding to each client in order to build 4 models"
   ]
  },
  {
   "cell_type": "code",
   "execution_count": 12,
   "id": "09f64822",
   "metadata": {},
   "outputs": [],
   "source": [
    "trading_data_model = trading_data.iloc[:2000, ]    # only the first 2000 rows have available deal data; the remaining values are null\n",
    "trading_data_model_1 = trading_data_model[trading_data_model[\"id\"] == 1]\n",
    "trading_data_model_2 = trading_data_model[trading_data_model[\"id\"] == 2]\n",
    "trading_data_model_3 = trading_data_model[trading_data_model[\"id\"] == 3]\n",
    "trading_data_model_4 = trading_data_model[trading_data_model[\"id\"] == 4]"
   ]
  },
  {
   "cell_type": "code",
   "execution_count": 13,
   "id": "1c043b6a",
   "metadata": {},
   "outputs": [
    {
     "data": {
      "text/html": [
       "<div>\n",
       "<style scoped>\n",
       "    .dataframe tbody tr th:only-of-type {\n",
       "        vertical-align: middle;\n",
       "    }\n",
       "\n",
       "    .dataframe tbody tr th {\n",
       "        vertical-align: top;\n",
       "    }\n",
       "\n",
       "    .dataframe thead th {\n",
       "        text-align: right;\n",
       "    }\n",
       "</style>\n",
       "<table border=\"1\" class=\"dataframe\">\n",
       "  <thead>\n",
       "    <tr style=\"text-align: right;\">\n",
       "      <th></th>\n",
       "      <th>midprice</th>\n",
       "      <th>id</th>\n",
       "      <th>buy/sell</th>\n",
       "      <th>answeredprice</th>\n",
       "      <th>deal</th>\n",
       "      <th>spread</th>\n",
       "    </tr>\n",
       "  </thead>\n",
       "  <tbody>\n",
       "    <tr>\n",
       "      <th>0</th>\n",
       "      <td>97.9990</td>\n",
       "      <td>4</td>\n",
       "      <td>1</td>\n",
       "      <td>98.016</td>\n",
       "      <td>0.0</td>\n",
       "      <td>0.000347</td>\n",
       "    </tr>\n",
       "    <tr>\n",
       "      <th>1</th>\n",
       "      <td>97.9988</td>\n",
       "      <td>4</td>\n",
       "      <td>-1</td>\n",
       "      <td>98.001</td>\n",
       "      <td>1.0</td>\n",
       "      <td>-0.000045</td>\n",
       "    </tr>\n",
       "    <tr>\n",
       "      <th>2</th>\n",
       "      <td>97.9951</td>\n",
       "      <td>1</td>\n",
       "      <td>-1</td>\n",
       "      <td>97.979</td>\n",
       "      <td>0.0</td>\n",
       "      <td>0.000329</td>\n",
       "    </tr>\n",
       "    <tr>\n",
       "      <th>3</th>\n",
       "      <td>97.9971</td>\n",
       "      <td>1</td>\n",
       "      <td>1</td>\n",
       "      <td>97.990</td>\n",
       "      <td>1.0</td>\n",
       "      <td>-0.000145</td>\n",
       "    </tr>\n",
       "    <tr>\n",
       "      <th>4</th>\n",
       "      <td>97.9961</td>\n",
       "      <td>1</td>\n",
       "      <td>-1</td>\n",
       "      <td>97.978</td>\n",
       "      <td>0.0</td>\n",
       "      <td>0.000369</td>\n",
       "    </tr>\n",
       "    <tr>\n",
       "      <th>...</th>\n",
       "      <td>...</td>\n",
       "      <td>...</td>\n",
       "      <td>...</td>\n",
       "      <td>...</td>\n",
       "      <td>...</td>\n",
       "      <td>...</td>\n",
       "    </tr>\n",
       "    <tr>\n",
       "      <th>1995</th>\n",
       "      <td>97.9966</td>\n",
       "      <td>1</td>\n",
       "      <td>-1</td>\n",
       "      <td>97.999</td>\n",
       "      <td>1.0</td>\n",
       "      <td>-0.000049</td>\n",
       "    </tr>\n",
       "    <tr>\n",
       "      <th>1996</th>\n",
       "      <td>97.9958</td>\n",
       "      <td>3</td>\n",
       "      <td>-1</td>\n",
       "      <td>97.988</td>\n",
       "      <td>0.0</td>\n",
       "      <td>0.000159</td>\n",
       "    </tr>\n",
       "    <tr>\n",
       "      <th>1997</th>\n",
       "      <td>98.0002</td>\n",
       "      <td>4</td>\n",
       "      <td>1</td>\n",
       "      <td>97.984</td>\n",
       "      <td>1.0</td>\n",
       "      <td>-0.000331</td>\n",
       "    </tr>\n",
       "    <tr>\n",
       "      <th>1998</th>\n",
       "      <td>98.0028</td>\n",
       "      <td>2</td>\n",
       "      <td>-1</td>\n",
       "      <td>97.985</td>\n",
       "      <td>0.0</td>\n",
       "      <td>0.000363</td>\n",
       "    </tr>\n",
       "    <tr>\n",
       "      <th>1999</th>\n",
       "      <td>97.9997</td>\n",
       "      <td>1</td>\n",
       "      <td>1</td>\n",
       "      <td>97.991</td>\n",
       "      <td>1.0</td>\n",
       "      <td>-0.000178</td>\n",
       "    </tr>\n",
       "  </tbody>\n",
       "</table>\n",
       "<p>2000 rows × 6 columns</p>\n",
       "</div>"
      ],
      "text/plain": [
       "      midprice  id  buy/sell  answeredprice  deal    spread\n",
       "0      97.9990   4         1         98.016   0.0  0.000347\n",
       "1      97.9988   4        -1         98.001   1.0 -0.000045\n",
       "2      97.9951   1        -1         97.979   0.0  0.000329\n",
       "3      97.9971   1         1         97.990   1.0 -0.000145\n",
       "4      97.9961   1        -1         97.978   0.0  0.000369\n",
       "...        ...  ..       ...            ...   ...       ...\n",
       "1995   97.9966   1        -1         97.999   1.0 -0.000049\n",
       "1996   97.9958   3        -1         97.988   0.0  0.000159\n",
       "1997   98.0002   4         1         97.984   1.0 -0.000331\n",
       "1998   98.0028   2        -1         97.985   0.0  0.000363\n",
       "1999   97.9997   1         1         97.991   1.0 -0.000178\n",
       "\n",
       "[2000 rows x 6 columns]"
      ]
     },
     "execution_count": 13,
     "metadata": {},
     "output_type": "execute_result"
    }
   ],
   "source": [
    "trading_data_model"
   ]
  },
  {
   "cell_type": "markdown",
   "id": "e50b9f9c",
   "metadata": {},
   "source": [
    "Split the data into train sets and test sets; since we transformed data reflecting mid- and answered price into spread, we can take only two variables"
   ]
  },
  {
   "cell_type": "code",
   "execution_count": 14,
   "id": "061e3317",
   "metadata": {},
   "outputs": [],
   "source": [
    "X_train_1, X_test_1, y_train_1, y_test_1 = train_test_split(trading_data_model_1[[\"spread\", \"buy/sell\"]], trading_data_model_1[\"deal\"], train_size = 0.9)\n",
    "X_train_2, X_test_2, y_train_2, y_test_2 = train_test_split(trading_data_model_2[[\"spread\", \"buy/sell\"]], trading_data_model_2[\"deal\"], train_size = 0.9)\n",
    "X_train_3, X_test_3, y_train_3, y_test_3 = train_test_split(trading_data_model_3[[\"spread\", \"buy/sell\"]], trading_data_model_3[\"deal\"], train_size = 0.9)\n",
    "X_train_4, X_test_4, y_train_4, y_test_4 = train_test_split(trading_data_model_4[[\"spread\", \"buy/sell\"]], trading_data_model_4[\"deal\"], train_size = 0.9)"
   ]
  },
  {
   "cell_type": "markdown",
   "id": "c75e7a7f",
   "metadata": {},
   "source": [
    "Function evaluating performance"
   ]
  },
  {
   "cell_type": "code",
   "execution_count": 15,
   "id": "80fd685a",
   "metadata": {},
   "outputs": [],
   "source": [
    "def performance(y_real, y_predicted):\n",
    "    print('The confusion matrix is:')\n",
    "    print(confusion_matrix(y_real, y_predicted))\n",
    "    metrics = {'Accuracy': accuracy_score, 'Precision': precision_score, 'Recall': recall_score, 'F1': f1_score}\n",
    "    for metrics, func in metrics.items():\n",
    "        print(metrics+': %.2f'%(func(y_real, y_predicted)))"
   ]
  },
  {
   "cell_type": "markdown",
   "id": "a0e48db4",
   "metadata": {},
   "source": [
    "## Logistic Regression"
   ]
  },
  {
   "cell_type": "markdown",
   "id": "9357d513",
   "metadata": {},
   "source": [
    "First we build a logistic regression model for client 1 based on the training set, and we evaluate it on the test set"
   ]
  },
  {
   "cell_type": "code",
   "execution_count": 51,
   "id": "9a872d97",
   "metadata": {},
   "outputs": [
    {
     "name": "stdout",
     "output_type": "stream",
     "text": [
      "The confusion matrix is:\n",
      "[[207  15]\n",
      " [ 11 203]]\n",
      "Accuracy: 0.94\n",
      "Precision: 0.93\n",
      "Recall: 0.95\n",
      "F1: 0.94\n"
     ]
    }
   ],
   "source": [
    "log_reg_1 = LogisticRegression(max_iter = 500, penalty = None, tol = 1e-6)\n",
    "log_reg_1.fit(X_train_1, y_train_1)\n",
    "y_train_1_predicted_lr = log_reg_1.predict(X_train_1)\n",
    "performance(y_train_1, y_train_1_predicted_lr)"
   ]
  },
  {
   "cell_type": "code",
   "execution_count": 53,
   "id": "1655847e",
   "metadata": {},
   "outputs": [
    {
     "name": "stdout",
     "output_type": "stream",
     "text": [
      "The confusion matrix is:\n",
      "[[21  5]\n",
      " [ 1 22]]\n",
      "Accuracy: 0.88\n",
      "Precision: 0.81\n",
      "Recall: 0.96\n",
      "F1: 0.88\n"
     ]
    }
   ],
   "source": [
    "y_test_1_predicted_lr = log_reg_1.predict(X_test_1)\n",
    "performance(y_test_1, y_test_1_predicted_lr)"
   ]
  },
  {
   "cell_type": "markdown",
   "id": "c0034ccd",
   "metadata": {},
   "source": [
    "Next we do the same with client number 2"
   ]
  },
  {
   "cell_type": "code",
   "execution_count": 55,
   "id": "78c3cafe",
   "metadata": {},
   "outputs": [
    {
     "name": "stdout",
     "output_type": "stream",
     "text": [
      "The confusion matrix is:\n",
      "[[176  33]\n",
      " [ 34 207]]\n",
      "Accuracy: 0.85\n",
      "Precision: 0.86\n",
      "Recall: 0.86\n",
      "F1: 0.86\n"
     ]
    }
   ],
   "source": [
    "log_reg_2 = LogisticRegression(max_iter = 500, penalty = None, tol = 1e-6)\n",
    "log_reg_2.fit(X_train_2, y_train_2)\n",
    "y_train_2_predicted_lr = log_reg_2.predict(X_train_2)\n",
    "performance(y_train_2, y_train_2_predicted_lr)"
   ]
  },
  {
   "cell_type": "code",
   "execution_count": 56,
   "id": "cbb9ef42",
   "metadata": {},
   "outputs": [
    {
     "name": "stdout",
     "output_type": "stream",
     "text": [
      "The confusion matrix is:\n",
      "[[16  8]\n",
      " [ 3 24]]\n",
      "Accuracy: 0.78\n",
      "Precision: 0.75\n",
      "Recall: 0.89\n",
      "F1: 0.81\n"
     ]
    }
   ],
   "source": [
    "y_test_2_predicted_lr = log_reg_2.predict(X_test_2)\n",
    "performance(y_test_2, y_test_2_predicted_lr)"
   ]
  },
  {
   "cell_type": "markdown",
   "id": "7d787acf",
   "metadata": {},
   "source": [
    "Client no. 3"
   ]
  },
  {
   "cell_type": "code",
   "execution_count": 57,
   "id": "aa73c5f4",
   "metadata": {},
   "outputs": [
    {
     "name": "stdout",
     "output_type": "stream",
     "text": [
      "The confusion matrix is:\n",
      "[[216  10]\n",
      " [ 13 208]]\n",
      "Accuracy: 0.95\n",
      "Precision: 0.95\n",
      "Recall: 0.94\n",
      "F1: 0.95\n"
     ]
    }
   ],
   "source": [
    "log_reg_3 = LogisticRegression(max_iter = 500, penalty = None, tol = 1e-6)\n",
    "log_reg_3.fit(X_train_3, y_train_3)\n",
    "y_train_3_predicted_lr = log_reg_3.predict(X_train_3)\n",
    "performance(y_train_3, y_train_3_predicted_lr)"
   ]
  },
  {
   "cell_type": "code",
   "execution_count": 58,
   "id": "64ea0d29",
   "metadata": {},
   "outputs": [
    {
     "name": "stdout",
     "output_type": "stream",
     "text": [
      "The confusion matrix is:\n",
      "[[19  2]\n",
      " [ 0 29]]\n",
      "Accuracy: 0.96\n",
      "Precision: 0.94\n",
      "Recall: 1.00\n",
      "F1: 0.97\n"
     ]
    }
   ],
   "source": [
    "y_test_3_predicted_lr = log_reg_3.predict(X_test_3)\n",
    "performance(y_test_3, y_test_3_predicted_lr)"
   ]
  },
  {
   "cell_type": "markdown",
   "id": "4cdf9a14",
   "metadata": {},
   "source": [
    "Client no. 4"
   ]
  },
  {
   "cell_type": "code",
   "execution_count": 60,
   "id": "97e703d2",
   "metadata": {},
   "outputs": [
    {
     "name": "stdout",
     "output_type": "stream",
     "text": [
      "The confusion matrix is:\n",
      "[[168  30]\n",
      " [ 36 231]]\n",
      "Accuracy: 0.86\n",
      "Precision: 0.89\n",
      "Recall: 0.87\n",
      "F1: 0.88\n"
     ]
    }
   ],
   "source": [
    "log_reg_4 = LogisticRegression(max_iter = 500, penalty = None, tol = 1e-6)\n",
    "log_reg_4.fit(X_train_4, y_train_4)\n",
    "y_train_4_predicted_lr = log_reg_4.predict(X_train_4)\n",
    "performance(y_train_4, y_train_4_predicted_lr)"
   ]
  },
  {
   "cell_type": "code",
   "execution_count": 61,
   "id": "e20d9ccc",
   "metadata": {},
   "outputs": [
    {
     "name": "stdout",
     "output_type": "stream",
     "text": [
      "The confusion matrix is:\n",
      "[[21  6]\n",
      " [ 2 23]]\n",
      "Accuracy: 0.85\n",
      "Precision: 0.79\n",
      "Recall: 0.92\n",
      "F1: 0.85\n"
     ]
    }
   ],
   "source": [
    "y_test_4_predicted_lr = log_reg_4.predict(X_test_4)\n",
    "performance(y_test_4, y_test_4_predicted_lr)"
   ]
  },
  {
   "cell_type": "markdown",
   "id": "f5c755bf",
   "metadata": {},
   "source": [
    "It can be observed that the overall performance is slightly better for the models corresponding to clients 1&3 than for the models corresponding to clients 2&4."
   ]
  },
  {
   "cell_type": "code",
   "execution_count": 63,
   "id": "b6fdacc1",
   "metadata": {},
   "outputs": [
    {
     "data": {
      "image/png": "[encoded data removed]",
      "text/plain": [
       "<Figure size 1600x900 with 4 Axes>"
      ]
     },
     "metadata": {},
     "output_type": "display_data"
    }
   ],
   "source": [
    "#plt.rcParams[\"figure.figsize\"] = (16,9)\n",
    "#plt.scatter(trading_data_model_2[\"spread\"], trading_data_model_2[\"answeredprice\"], c = trading_data_model_2[\"deal\"], edgecolor = 'k')\n",
    "\n",
    "f, axs = plt.subplots(2, 2, figsize = (16,9))\n",
    "\n",
    "axs[0, 0].scatter(X_train_1[\"spread\"], X_train_1[\"buy/sell\"], c = y_train_1_predicted_lr, edgecolor = 'k')\n",
    "axs[0, 0].set_title(\"ID = 1\")\n",
    "\n",
    "axs[0, 1].scatter(X_train_2[\"spread\"], X_train_2[\"buy/sell\"], c = y_train_2_predicted_lr, edgecolor = 'k')\n",
    "axs[0, 1].set_title(\"ID = 2\")\n",
    "\n",
    "axs[1, 0].scatter(X_train_3[\"spread\"], X_train_3[\"buy/sell\"], c = y_train_3_predicted_lr, edgecolor = 'k')\n",
    "axs[1, 0].set_title(\"ID = 3\")\n",
    "\n",
    "axs[1, 1].scatter(X_train_4[\"spread\"], X_train_4[\"buy/sell\"], c = y_train_4_predicted_lr, edgecolor = 'k')\n",
    "axs[1, 1].set_title(\"ID = 4\")\n",
    "\n",
    "plt.show()"
   ]
  },
  {
   "cell_type": "markdown",
   "id": "d1b1c17d",
   "metadata": {},
   "source": [
    "Moreover, we can notice that clients 2 and 4 accept higher spreads."
   ]
  },
  {
   "cell_type": "markdown",
   "id": "420c6997",
   "metadata": {},
   "source": [
    "## Linear Support Vector Machine"
   ]
  },
  {
   "cell_type": "code",
   "execution_count": 64,
   "id": "94105f43",
   "metadata": {},
   "outputs": [
    {
     "name": "stdout",
     "output_type": "stream",
     "text": [
      "The confusion matrix is:\n",
      "[[207  15]\n",
      " [ 11 203]]\n",
      "Accuracy: 0.94\n",
      "Precision: 0.93\n",
      "Recall: 0.95\n",
      "F1: 0.94\n"
     ]
    }
   ],
   "source": [
    "svm_1 = LinearSVC(penalty = 'l1', dual = False, max_iter = 50000, C = 1000.0)\n",
    "svm_1.fit(X_train_1, y_train_1)\n",
    "y_train_1_predicted_svm = svm_1.predict(X_train_1)\n",
    "performance(y_train_1, y_train_1_predicted_svm)"
   ]
  },
  {
   "cell_type": "code",
   "execution_count": 65,
   "id": "3e1f8381",
   "metadata": {},
   "outputs": [
    {
     "name": "stdout",
     "output_type": "stream",
     "text": [
      "The confusion matrix is:\n",
      "[[21  5]\n",
      " [ 1 22]]\n",
      "Accuracy: 0.88\n",
      "Precision: 0.81\n",
      "Recall: 0.96\n",
      "F1: 0.88\n"
     ]
    }
   ],
   "source": [
    "y_test_1_predicted_svm = svm_1.predict(X_test_1)\n",
    "performance(y_test_1, y_test_1_predicted_svm)"
   ]
  },
  {
   "cell_type": "code",
   "execution_count": 70,
   "id": "37d05cdb",
   "metadata": {},
   "outputs": [
    {
     "name": "stdout",
     "output_type": "stream",
     "text": [
      "The confusion matrix is:\n",
      "[[177  32]\n",
      " [ 34 207]]\n",
      "Accuracy: 0.85\n",
      "Precision: 0.87\n",
      "Recall: 0.86\n",
      "F1: 0.86\n"
     ]
    }
   ],
   "source": [
    "svm_2 = LinearSVC(penalty = 'l1', dual = False, max_iter = 50000, C = 1000.0)\n",
    "svm_2.fit(X_train_2, y_train_2)\n",
    "y_train_2_predicted_svm = svm_2.predict(X_train_2)\n",
    "performance(y_train_2, y_train_2_predicted_svm)"
   ]
  },
  {
   "cell_type": "code",
   "execution_count": 71,
   "id": "8fcbfc00",
   "metadata": {},
   "outputs": [
    {
     "name": "stdout",
     "output_type": "stream",
     "text": [
      "The confusion matrix is:\n",
      "[[16  8]\n",
      " [ 3 24]]\n",
      "Accuracy: 0.78\n",
      "Precision: 0.75\n",
      "Recall: 0.89\n",
      "F1: 0.81\n"
     ]
    }
   ],
   "source": [
    "y_test_2_predicted_svm = svm_2.predict(X_test_2)\n",
    "performance(y_test_2, y_test_2_predicted_svm)"
   ]
  },
  {
   "cell_type": "code",
   "execution_count": 72,
   "id": "af5a6c1c",
   "metadata": {},
   "outputs": [
    {
     "name": "stdout",
     "output_type": "stream",
     "text": [
      "The confusion matrix is:\n",
      "[[216  10]\n",
      " [ 13 208]]\n",
      "Accuracy: 0.95\n",
      "Precision: 0.95\n",
      "Recall: 0.94\n",
      "F1: 0.95\n"
     ]
    }
   ],
   "source": [
    "svm_3 = LinearSVC(penalty = 'l1', dual = False, max_iter = 50000, C = 1000.0)\n",
    "svm_3.fit(X_train_3, y_train_3)\n",
    "y_train_3_predicted_svm = svm_3.predict(X_train_3)\n",
    "performance(y_train_3, y_train_3_predicted_svm)"
   ]
  },
  {
   "cell_type": "code",
   "execution_count": 73,
   "id": "210d4af6",
   "metadata": {},
   "outputs": [
    {
     "name": "stdout",
     "output_type": "stream",
     "text": [
      "The confusion matrix is:\n",
      "[[19  2]\n",
      " [ 0 29]]\n",
      "Accuracy: 0.96\n",
      "Precision: 0.94\n",
      "Recall: 1.00\n",
      "F1: 0.97\n"
     ]
    }
   ],
   "source": [
    "y_test_3_predicted_svm = svm_3.predict(X_test_3)\n",
    "performance(y_test_3, y_test_3_predicted_svm)"
   ]
  },
  {
   "cell_type": "code",
   "execution_count": 78,
   "id": "7c142c04",
   "metadata": {},
   "outputs": [
    {
     "name": "stdout",
     "output_type": "stream",
     "text": [
      "The confusion matrix is:\n",
      "[[173  25]\n",
      " [ 40 227]]\n",
      "Accuracy: 0.86\n",
      "Precision: 0.90\n",
      "Recall: 0.85\n",
      "F1: 0.87\n"
     ]
    }
   ],
   "source": [
    "svm_4 = LinearSVC(penalty = 'l1', dual = False, max_iter = 50000, C = 1000.0)\n",
    "svm_4.fit(X_train_4, y_train_4)\n",
    "y_train_4_predicted_svm = svm_4.predict(X_train_4)\n",
    "performance(y_train_4, y_train_4_predicted_svm)"
   ]
  },
  {
   "cell_type": "code",
   "execution_count": 79,
   "id": "1c066c6c",
   "metadata": {},
   "outputs": [
    {
     "name": "stdout",
     "output_type": "stream",
     "text": [
      "The confusion matrix is:\n",
      "[[21  6]\n",
      " [ 2 23]]\n",
      "Accuracy: 0.85\n",
      "Precision: 0.79\n",
      "Recall: 0.92\n",
      "F1: 0.85\n"
     ]
    }
   ],
   "source": [
    "y_test_4_predicted_svm = svm_4.predict(X_test_4)\n",
    "performance(y_test_4, y_test_4_predicted_svm)"
   ]
  },
  {
   "cell_type": "markdown",
   "id": "eafb2fa7",
   "metadata": {},
   "source": [
    "The results for the Linear SVM models are the same as for the Logistic Regression models."
   ]
  },
  {
   "cell_type": "markdown",
   "id": "b06bf415",
   "metadata": {},
   "source": [
    "## Probabilities"
   ]
  },
  {
   "cell_type": "markdown",
   "id": "5158fb44-f19c-47ab-a5c3-4729b4acf7fe",
   "metadata": {},
   "source": [
    "For each offer estimate the probability that a client will agree for the deal using developed Logistic Regression models"
   ]
  },
  {
   "cell_type": "code",
   "execution_count": 80,
   "id": "d8098c28",
   "metadata": {},
   "outputs": [],
   "source": [
    "trading_data[\"prob\"] = np.where(trading_data[\"id\"] == 1, log_reg_1.predict_proba(trading_data[[\"spread\", \"buy/sell\"]])[:,1], 0)\n",
    "trading_data[\"prob\"] = np.where(trading_data[\"id\"] == 2, log_reg_2.predict_proba(trading_data[[\"spread\", \"buy/sell\"]])[:,1], trading_data[\"prob\"])\n",
    "trading_data[\"prob\"] = np.where(trading_data[\"id\"] == 3, log_reg_3.predict_proba(trading_data[[\"spread\", \"buy/sell\"]])[:,1], trading_data[\"prob\"])\n",
    "trading_data[\"prob\"] = np.where(trading_data[\"id\"] == 4, log_reg_4.predict_proba(trading_data[[\"spread\", \"buy/sell\"]])[:,1], trading_data[\"prob\"])"
   ]
  },
  {
   "cell_type": "code",
   "execution_count": 81,
   "id": "00387ffc",
   "metadata": {},
   "outputs": [
    {
     "data": {
      "text/html": [
       "<div>\n",
       "<style scoped>\n",
       "    .dataframe tbody tr th:only-of-type {\n",
       "        vertical-align: middle;\n",
       "    }\n",
       "\n",
       "    .dataframe tbody tr th {\n",
       "        vertical-align: top;\n",
       "    }\n",
       "\n",
       "    .dataframe thead th {\n",
       "        text-align: right;\n",
       "    }\n",
       "</style>\n",
       "<table border=\"1\" class=\"dataframe\">\n",
       "  <thead>\n",
       "    <tr style=\"text-align: right;\">\n",
       "      <th></th>\n",
       "      <th>midprice</th>\n",
       "      <th>id</th>\n",
       "      <th>buy/sell</th>\n",
       "      <th>answeredprice</th>\n",
       "      <th>deal</th>\n",
       "      <th>spread</th>\n",
       "      <th>prob</th>\n",
       "    </tr>\n",
       "  </thead>\n",
       "  <tbody>\n",
       "    <tr>\n",
       "      <th>0</th>\n",
       "      <td>97.9990</td>\n",
       "      <td>4</td>\n",
       "      <td>1</td>\n",
       "      <td>98.016</td>\n",
       "      <td>0.0</td>\n",
       "      <td>0.000347</td>\n",
       "      <td>0.017230</td>\n",
       "    </tr>\n",
       "    <tr>\n",
       "      <th>1</th>\n",
       "      <td>97.9988</td>\n",
       "      <td>4</td>\n",
       "      <td>-1</td>\n",
       "      <td>98.001</td>\n",
       "      <td>1.0</td>\n",
       "      <td>-0.000045</td>\n",
       "      <td>0.848842</td>\n",
       "    </tr>\n",
       "    <tr>\n",
       "      <th>2</th>\n",
       "      <td>97.9951</td>\n",
       "      <td>1</td>\n",
       "      <td>-1</td>\n",
       "      <td>97.979</td>\n",
       "      <td>0.0</td>\n",
       "      <td>0.000329</td>\n",
       "      <td>0.000005</td>\n",
       "    </tr>\n",
       "    <tr>\n",
       "      <th>3</th>\n",
       "      <td>97.9971</td>\n",
       "      <td>1</td>\n",
       "      <td>1</td>\n",
       "      <td>97.990</td>\n",
       "      <td>1.0</td>\n",
       "      <td>-0.000145</td>\n",
       "      <td>0.998076</td>\n",
       "    </tr>\n",
       "    <tr>\n",
       "      <th>4</th>\n",
       "      <td>97.9961</td>\n",
       "      <td>1</td>\n",
       "      <td>-1</td>\n",
       "      <td>97.978</td>\n",
       "      <td>0.0</td>\n",
       "      <td>0.000369</td>\n",
       "      <td>0.000001</td>\n",
       "    </tr>\n",
       "    <tr>\n",
       "      <th>...</th>\n",
       "      <td>...</td>\n",
       "      <td>...</td>\n",
       "      <td>...</td>\n",
       "      <td>...</td>\n",
       "      <td>...</td>\n",
       "      <td>...</td>\n",
       "      <td>...</td>\n",
       "    </tr>\n",
       "    <tr>\n",
       "      <th>2195</th>\n",
       "      <td>97.9943</td>\n",
       "      <td>1</td>\n",
       "      <td>-1</td>\n",
       "      <td>97.995</td>\n",
       "      <td>NaN</td>\n",
       "      <td>-0.000014</td>\n",
       "      <td>0.881425</td>\n",
       "    </tr>\n",
       "    <tr>\n",
       "      <th>2196</th>\n",
       "      <td>97.9977</td>\n",
       "      <td>2</td>\n",
       "      <td>1</td>\n",
       "      <td>98.014</td>\n",
       "      <td>NaN</td>\n",
       "      <td>0.000333</td>\n",
       "      <td>0.028211</td>\n",
       "    </tr>\n",
       "    <tr>\n",
       "      <th>2197</th>\n",
       "      <td>97.9999</td>\n",
       "      <td>3</td>\n",
       "      <td>1</td>\n",
       "      <td>98.009</td>\n",
       "      <td>NaN</td>\n",
       "      <td>0.000186</td>\n",
       "      <td>0.003784</td>\n",
       "    </tr>\n",
       "    <tr>\n",
       "      <th>2198</th>\n",
       "      <td>98.0019</td>\n",
       "      <td>2</td>\n",
       "      <td>-1</td>\n",
       "      <td>98.007</td>\n",
       "      <td>NaN</td>\n",
       "      <td>-0.000104</td>\n",
       "      <td>0.914546</td>\n",
       "    </tr>\n",
       "    <tr>\n",
       "      <th>2199</th>\n",
       "      <td>98.0041</td>\n",
       "      <td>2</td>\n",
       "      <td>1</td>\n",
       "      <td>98.015</td>\n",
       "      <td>NaN</td>\n",
       "      <td>0.000222</td>\n",
       "      <td>0.099723</td>\n",
       "    </tr>\n",
       "  </tbody>\n",
       "</table>\n",
       "<p>2200 rows × 7 columns</p>\n",
       "</div>"
      ],
      "text/plain": [
       "      midprice  id  buy/sell  answeredprice  deal    spread      prob\n",
       "0      97.9990   4         1         98.016   0.0  0.000347  0.017230\n",
       "1      97.9988   4        -1         98.001   1.0 -0.000045  0.848842\n",
       "2      97.9951   1        -1         97.979   0.0  0.000329  0.000005\n",
       "3      97.9971   1         1         97.990   1.0 -0.000145  0.998076\n",
       "4      97.9961   1        -1         97.978   0.0  0.000369  0.000001\n",
       "...        ...  ..       ...            ...   ...       ...       ...\n",
       "2195   97.9943   1        -1         97.995   NaN -0.000014  0.881425\n",
       "2196   97.9977   2         1         98.014   NaN  0.000333  0.028211\n",
       "2197   97.9999   3         1         98.009   NaN  0.000186  0.003784\n",
       "2198   98.0019   2        -1         98.007   NaN -0.000104  0.914546\n",
       "2199   98.0041   2         1         98.015   NaN  0.000222  0.099723\n",
       "\n",
       "[2200 rows x 7 columns]"
      ]
     },
     "execution_count": 81,
     "metadata": {},
     "output_type": "execute_result"
    }
   ],
   "source": [
    "trading_data"
   ]
  },
  {
   "cell_type": "markdown",
   "id": "4e06ccc3",
   "metadata": {},
   "source": [
    "The last column of the above table contains predictions of the probability of deal agreement according to the logistic regression model"
   ]
  },
  {
   "cell_type": "markdown",
   "id": "b7c5e235",
   "metadata": {},
   "source": [
    "## Clustering"
   ]
  },
  {
   "cell_type": "markdown",
   "id": "de23ef6f",
   "metadata": {},
   "source": [
    "In order to develop a model clustering the clients, we will use k-means algorithm. We want to cluster the clients based on their propensity to accept the offer depending on the proposed spread. If we input the raw data into the model, we will get two types of situations - when the deal is agreed and the spread is low and the opposite. Therefore, we need to transform the data in order to obtain a variable reflecting the relation of deal agreement probability to the proposed spread (or rather, to its inverse). Moreover, we don't want to treat ID variable as a continuous one. Instead, we will create 4 binary variables correspoding to 4 clients."
   ]
  },
  {
   "cell_type": "code",
   "execution_count": 157,
   "id": "64247c5b",
   "metadata": {},
   "outputs": [
    {
     "data": {
      "text/html": [
       "<div>\n",
       "<style scoped>\n",
       "    .dataframe tbody tr th:only-of-type {\n",
       "        vertical-align: middle;\n",
       "    }\n",
       "\n",
       "    .dataframe tbody tr th {\n",
       "        vertical-align: top;\n",
       "    }\n",
       "\n",
       "    .dataframe thead th {\n",
       "        text-align: right;\n",
       "    }\n",
       "</style>\n",
       "<table border=\"1\" class=\"dataframe\">\n",
       "  <thead>\n",
       "    <tr style=\"text-align: right;\">\n",
       "      <th></th>\n",
       "      <th>proba_spread</th>\n",
       "      <th>id1</th>\n",
       "      <th>id2</th>\n",
       "      <th>id3</th>\n",
       "      <th>id4</th>\n",
       "    </tr>\n",
       "  </thead>\n",
       "  <tbody>\n",
       "    <tr>\n",
       "      <th>0</th>\n",
       "      <td>0.084050</td>\n",
       "      <td>0</td>\n",
       "      <td>0</td>\n",
       "      <td>0</td>\n",
       "      <td>1</td>\n",
       "    </tr>\n",
       "    <tr>\n",
       "      <th>1</th>\n",
       "      <td>0.628391</td>\n",
       "      <td>0</td>\n",
       "      <td>0</td>\n",
       "      <td>0</td>\n",
       "      <td>1</td>\n",
       "    </tr>\n",
       "    <tr>\n",
       "      <th>2</th>\n",
       "      <td>0.000024</td>\n",
       "      <td>1</td>\n",
       "      <td>0</td>\n",
       "      <td>0</td>\n",
       "      <td>0</td>\n",
       "    </tr>\n",
       "    <tr>\n",
       "      <th>3</th>\n",
       "      <td>0.456648</td>\n",
       "      <td>1</td>\n",
       "      <td>0</td>\n",
       "      <td>0</td>\n",
       "      <td>0</td>\n",
       "    </tr>\n",
       "    <tr>\n",
       "      <th>4</th>\n",
       "      <td>0.000005</td>\n",
       "      <td>1</td>\n",
       "      <td>0</td>\n",
       "      <td>0</td>\n",
       "      <td>0</td>\n",
       "    </tr>\n",
       "    <tr>\n",
       "      <th>...</th>\n",
       "      <td>...</td>\n",
       "      <td>...</td>\n",
       "      <td>...</td>\n",
       "      <td>...</td>\n",
       "      <td>...</td>\n",
       "    </tr>\n",
       "    <tr>\n",
       "      <th>2195</th>\n",
       "      <td>0.756068</td>\n",
       "      <td>1</td>\n",
       "      <td>0</td>\n",
       "      <td>0</td>\n",
       "      <td>0</td>\n",
       "    </tr>\n",
       "    <tr>\n",
       "      <th>2196</th>\n",
       "      <td>0.128481</td>\n",
       "      <td>0</td>\n",
       "      <td>1</td>\n",
       "      <td>0</td>\n",
       "      <td>0</td>\n",
       "    </tr>\n",
       "    <tr>\n",
       "      <th>2197</th>\n",
       "      <td>0.008497</td>\n",
       "      <td>0</td>\n",
       "      <td>0</td>\n",
       "      <td>1</td>\n",
       "      <td>0</td>\n",
       "    </tr>\n",
       "    <tr>\n",
       "      <th>2198</th>\n",
       "      <td>0.509253</td>\n",
       "      <td>0</td>\n",
       "      <td>1</td>\n",
       "      <td>0</td>\n",
       "      <td>0</td>\n",
       "    </tr>\n",
       "    <tr>\n",
       "      <th>2199</th>\n",
       "      <td>0.267223</td>\n",
       "      <td>0</td>\n",
       "      <td>1</td>\n",
       "      <td>0</td>\n",
       "      <td>0</td>\n",
       "    </tr>\n",
       "  </tbody>\n",
       "</table>\n",
       "<p>2200 rows × 5 columns</p>\n",
       "</div>"
      ],
      "text/plain": [
       "      proba_spread  id1  id2  id3  id4\n",
       "0         0.084050    0    0    0    1\n",
       "1         0.628391    0    0    0    1\n",
       "2         0.000024    1    0    0    0\n",
       "3         0.456648    1    0    0    0\n",
       "4         0.000005    1    0    0    0\n",
       "...            ...  ...  ...  ...  ...\n",
       "2195      0.756068    1    0    0    0\n",
       "2196      0.128481    0    1    0    0\n",
       "2197      0.008497    0    0    1    0\n",
       "2198      0.509253    0    1    0    0\n",
       "2199      0.267223    0    1    0    0\n",
       "\n",
       "[2200 rows x 5 columns]"
      ]
     },
     "execution_count": 157,
     "metadata": {},
     "output_type": "execute_result"
    }
   ],
   "source": [
    "trading_data_kmeans = trading_data.copy()\n",
    "trading_data_kmeans[\"spread\"] = StandardScaler().fit_transform(trading_data_kmeans[[\"spread\"]])\n",
    "trading_data_kmeans[\"proba_spread\"] = trading_data_kmeans[\"prob\"] / np.exp(-trading_data_kmeans[\"spread\"])\n",
    "#trading_data_kmeans[\"spread_proba\"] = 1 / (1 + np.exp(-trading_data_kmeans[\"spread\"])) * (1 - trading_data_kmeans[\"prob\"])\n",
    "trading_data_kmeans[\"id1\"] = np.where(trading_data[\"id\"] == 1, 1, 0)\n",
    "trading_data_kmeans[\"id2\"] = np.where(trading_data[\"id\"] == 2, 1, 0)\n",
    "trading_data_kmeans[\"id3\"] = np.where(trading_data[\"id\"] == 3, 1, 0)\n",
    "trading_data_kmeans[\"id4\"] = np.where(trading_data[\"id\"] == 4, 1, 0)\n",
    "#trading_data_kmeans[\"buy/sell\"] = np.where(trading_data[\"buy/sell\"] == 1, 1, 0)\n",
    "trading_data_kmeans = trading_data_kmeans[[\"proba_spread\", \"id1\", \"id2\", \"id3\", \"id4\"]]\n",
    "trading_data_kmeans"
   ]
  },
  {
   "cell_type": "code",
   "execution_count": 158,
   "id": "c4382c77",
   "metadata": {},
   "outputs": [
    {
     "name": "stderr",
     "output_type": "stream",
     "text": [
      "C:\\Users\\wojci\\anaconda3\\Lib\\site-packages\\sklearn\\cluster\\_kmeans.py:1429: UserWarning: KMeans is known to have a memory leak on Windows with MKL, when there are less chunks than available threads. You can avoid it by setting the environment variable OMP_NUM_THREADS=9.\n",
      "  warnings.warn(\n"
     ]
    }
   ],
   "source": [
    "kmeans = KMeans(n_clusters = 2, random_state = 1, max_iter = 5000, tol = 1e-20).fit(trading_data_kmeans)"
   ]
  },
  {
   "cell_type": "code",
   "execution_count": 159,
   "id": "0c34ef9e",
   "metadata": {},
   "outputs": [
    {
     "data": {
      "text/plain": [
       "array([[ 2.45235955e-01,  4.87895717e-01, -1.66533454e-16,\n",
       "         5.12104283e-01,  2.22044605e-16],\n",
       "       [ 3.94778127e-01, -5.55111512e-17,  4.95559503e-01,\n",
       "         0.00000000e+00,  5.04440497e-01]])"
      ]
     },
     "execution_count": 159,
     "metadata": {},
     "output_type": "execute_result"
    }
   ],
   "source": [
    "kmeans.cluster_centers_"
   ]
  },
  {
   "cell_type": "markdown",
   "id": "4c49a377",
   "metadata": {},
   "source": [
    "As can be observed, about half of the records in the first cluster consist of client 1 deals, and the other half - of client 3 deals, while half of the records in the second cluster consist of client 2 deals, and the other half - of client 4 deals. Moreover, in the second group the ratio of probability to the transformed spread is higher. Unfortunately, the relationship is not strong enough, so the result depends on the chosen random state. For the seed set above we obtain the described result, but it is not always the case. "
   ]
  },
  {
   "cell_type": "code",
   "execution_count": null,
   "id": "0501022e-589c-48c7-8e34-ee1e93a55903",
   "metadata": {},
   "outputs": [],
   "source": []
  }
 ],
 "metadata": {
  "kernelspec": {
   "display_name": "Python 3 (ipykernel)",
   "language": "python",
   "name": "python3"
  },
  "language_info": {
   "codemirror_mode": {
    "name": "ipython",
    "version": 3
   },
   "file_extension": ".py",
   "mimetype": "text/x-python",
   "name": "python",
   "nbconvert_exporter": "python",
   "pygments_lexer": "ipython3",
   "version": "3.12.7"
  }
 },
 "nbformat": 4,
 "nbformat_minor": 5
}
